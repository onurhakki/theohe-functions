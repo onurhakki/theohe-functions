{
 "cells": [
  {
   "cell_type": "code",
   "execution_count": 1,
   "metadata": {},
   "outputs": [],
   "source": [
    "from theohe_functions.timeframe.get_frame import timeFrame\n",
    "from theohe_functions.stock.data.download import bist_kap, yf_data_download\n",
    "from theohe_functions.export.excel_file import ExcelWriter\n",
    "\n"
   ]
  },
  {
   "cell_type": "code",
   "execution_count": 2,
   "metadata": {},
   "outputs": [],
   "source": [
    "m = timeFrame()\n",
    "frame = m.get_year_frame(type_ = 1)\n",
    "\n",
    "df = yf_data_download([\"XU100.IS\"], frame)"
   ]
  },
  {
   "cell_type": "code",
   "execution_count": 5,
   "metadata": {},
   "outputs": [],
   "source": [
    "\n",
    "ex = ExcelWriter()\n",
    "\n",
    "ex.create_worksheet(sheet_name = \"Veri\")\n",
    "ex.write_dataframe(1, df, #.reset_index(), \n",
    "                   start_cell_row = 1, start_cell_col = 1)\n",
    "ex.adjust_columns(width_exp = 1.4)\n",
    "ex.apply_color_scale(1,)\n",
    "#ex.wb"
   ]
  },
  {
   "cell_type": "code",
   "execution_count": 6,
   "metadata": {},
   "outputs": [],
   "source": [
    "ex.wb.save(\"Try2.xlsx\")"
   ]
  }
 ],
 "metadata": {
  "kernelspec": {
   "display_name": "Python 3 (ipykernel)",
   "language": "python",
   "name": "python3"
  },
  "language_info": {
   "codemirror_mode": {
    "name": "ipython",
    "version": 3
   },
   "file_extension": ".py",
   "mimetype": "text/x-python",
   "name": "python",
   "nbconvert_exporter": "python",
   "pygments_lexer": "ipython3",
   "version": "3.9.7"
  }
 },
 "nbformat": 4,
 "nbformat_minor": 2
}
