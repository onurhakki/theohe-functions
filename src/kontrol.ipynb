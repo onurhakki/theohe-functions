{
 "cells": [
  {
   "cell_type": "code",
   "execution_count": 1,
   "metadata": {},
   "outputs": [],
   "source": [
    "from theohe_functions.timeframe.get_frame import timeFrame\n",
    "from theohe_functions.stock.data.download import bist_kap, yf_data_download\n",
    "\n"
   ]
  },
  {
   "cell_type": "code",
   "execution_count": 3,
   "metadata": {},
   "outputs": [],
   "source": [
    "m = timeFrame()\n",
    "frame = m.get_year_frame(type_ = 1)\n",
    "\n",
    "df = yf_data_download([\"XU100.IS\"], frame)"
   ]
  },
  {
   "cell_type": "code",
   "execution_count": 5,
   "metadata": {},
   "outputs": [
    {
     "data": {
      "text/plain": [
       "<AxesSubplot:xlabel='Datetime'>"
      ]
     },
     "execution_count": 5,
     "metadata": {},
     "output_type": "execute_result"
    },
    {
     "data": {
      "image/png": "[encoded data removed]",
      "text/plain": [
       "<Figure size 432x288 with 1 Axes>"
      ]
     },
     "metadata": {
      "needs_background": "light"
     },
     "output_type": "display_data"
    }
   ],
   "source": [
    "df[\"close\"].plot()"
   ]
  },
  {
   "cell_type": "code",
   "execution_count": 2,
   "metadata": {},
   "outputs": [
    {
     "name": "stdout",
     "output_type": "stream",
     "text": [
      "Help on class timeFrame in module theohe_functions.timeframe.get_frame:\n",
      "\n",
      "class timeFrame(theohe_functions.timeframe.call_time.callTime)\n",
      " |  Method resolution order:\n",
      " |      timeFrame\n",
      " |      theohe_functions.timeframe.call_time.callTime\n",
      " |      builtins.object\n",
      " |  \n",
      " |  Methods defined here:\n",
      " |  \n",
      " |  get_day_frame(self, resolution=None)\n",
      " |  \n",
      " |  get_five_day_frame(self, resolution=None)\n",
      " |  \n",
      " |  get_hour_frame(self, resolution=None)\n",
      " |  \n",
      " |  get_month_frame(self, resolution=None)\n",
      " |  \n",
      " |  get_six_hour_frame(self, resolution=None)\n",
      " |  \n",
      " |  get_six_month_frame(self, resolution=None)\n",
      " |  \n",
      " |  get_three_day_frame(self, resolution=None)\n",
      " |  \n",
      " |  get_three_hour_frame(self, resolution=None)\n",
      " |  \n",
      " |  get_three_month_frame(self, resolution=None)\n",
      " |  \n",
      " |  get_three_week_frame(self, resolution=None)\n",
      " |  \n",
      " |  get_three_year_frame(self, resolution=None)\n",
      " |  \n",
      " |  get_twelve_hour_frame(self, resolution=None)\n",
      " |  \n",
      " |  get_two_week_frame(self, resolution=None)\n",
      " |  \n",
      " |  get_two_year_frame(self, resolution=None)\n",
      " |  \n",
      " |  get_week_frame(self, resolution=None)\n",
      " |  \n",
      " |  get_year_frame(self, resolution=None)\n",
      " |  \n",
      " |  ----------------------------------------------------------------------\n",
      " |  Methods inherited from theohe_functions.timeframe.call_time.callTime:\n",
      " |  \n",
      " |  get_current_time(self)\n",
      " |  \n",
      " |  get_day_time(self)\n",
      " |  \n",
      " |  get_five_day_time(self)\n",
      " |  \n",
      " |  get_hour_time(self)\n",
      " |  \n",
      " |  get_month_time(self)\n",
      " |  \n",
      " |  get_six_hour_time(self)\n",
      " |  \n",
      " |  get_six_month_time(self)\n",
      " |  \n",
      " |  get_three_day_time(self)\n",
      " |  \n",
      " |  get_three_hour_time(self)\n",
      " |  \n",
      " |  get_three_month_time(self)\n",
      " |  \n",
      " |  get_three_week_time(self)\n",
      " |  \n",
      " |  get_three_year_time(self)\n",
      " |  \n",
      " |  get_twelve_hour_time(self)\n",
      " |  \n",
      " |  get_two_week_time(self)\n",
      " |  \n",
      " |  get_two_year_time(self)\n",
      " |  \n",
      " |  get_week_time(self)\n",
      " |  \n",
      " |  get_year_time(self)\n",
      " |  \n",
      " |  ----------------------------------------------------------------------\n",
      " |  Data descriptors inherited from theohe_functions.timeframe.call_time.callTime:\n",
      " |  \n",
      " |  __dict__\n",
      " |      dictionary for instance variables (if defined)\n",
      " |  \n",
      " |  __weakref__\n",
      " |      list of weak references to the object (if defined)\n",
      "\n"
     ]
    }
   ],
   "source": [
    "help(timeFrame)"
   ]
  }
 ],
 "metadata": {
  "kernelspec": {
   "display_name": "Python 3 (ipykernel)",
   "language": "python",
   "name": "python3"
  },
  "language_info": {
   "codemirror_mode": {
    "name": "ipython",
    "version": 3
   },
   "file_extension": ".py",
   "mimetype": "text/x-python",
   "name": "python",
   "nbconvert_exporter": "python",
   "pygments_lexer": "ipython3",
   "version": "3.9.7"
  }
 },
 "nbformat": 4,
 "nbformat_minor": 2
}
